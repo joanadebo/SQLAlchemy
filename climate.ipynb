{
 "cells": [
  {
   "cell_type": "code",
   "execution_count": null,
   "id": "382cedbc",
   "metadata": {},
   "outputs": [],
   "source": [
    "%matplotlib inline\n",
    "from matplotlib import style\n",
    "style.use('fivethirtyeight')\n",
    "import matplotlib.pyplot as plt\n",
    "import numpy as np\n",
    "import pandas as pd\n",
    "import datetime as dt\n",
    "from datetime import datetime\n",
    "# Python SQL toolkit and Object Relational Mapper\n",
    "import sqlalchemy\n",
    "from sqlalchemy.ext.automap import automap_base\n",
    "from sqlalchemy.orm import Session\n",
    "from sqlalchemy import create_engine, func"
   ]
  },
  {
   "cell_type": "code",
   "execution_count": null,
   "id": "ee6fea4f",
   "metadata": {},
   "outputs": [],
   "source": [
    "# create engine to hawaii.sqlite\n",
    "engine = create_engine(\"sqlite:///hawaii.sqlite\")\n",
    "data = engine.execute(\"Select * from station\")\n",
    "for each in data:\n",
    "    print(each)"
   ]
  },
  {
   "cell_type": "code",
   "execution_count": null,
   "id": "a89ae386",
   "metadata": {},
   "outputs": [],
   "source": [
    "data = engine.execute(\"Select * from station\")\n",
    "for each in data:\n",
    "    print(each)"
   ]
  },
  {
   "cell_type": "code",
   "execution_count": null,
   "id": "de884b08",
   "metadata": {},
   "outputs": [],
   "source": [
    "# reflect an existing database into a new model\n",
    "Base = automap_base()\n",
    "\n",
    "# reflect the tables\n",
    "Base.prepare(engine, reflect=True)\n",
    "# View all of the classes that automap found\n",
    "Base.classes.keys()\n",
    "\n",
    "# Save references to each table\n",
    "Measurement = Base.classes.measurement\n",
    "Station = Base.classes.station\n",
    "# Create our session (link) from Python to the DB\n",
    "session = Session(engine)\n",
    "us9281_data = session.query(Measurement).filter(Measurement.station == 'USC00519281').filter(all()\n",
    "for edata in us9281_data:\n",
    "    print(f'{edata.station}, {edata.date}, {edata.prcp}')"
   ]
  },
  {
   "cell_type": "code",
   "execution_count": null,
   "id": "26f56b61",
   "metadata": {},
   "outputs": [],
   "source": [
    "# Find the most recent date in the data set.\n",
    "max_date = session.query(func.max(Measurement.date)).first()\n",
    "\n",
    "#print(max_date)\n",
    "\n",
    "for max_each in max_date:\n",
    "    date_last_year = max_each\n",
    "date_last_year = datetime.strptime(date_last_year,'%Y-%m-%d') - dt.timedelta(days=365)\n",
    "\n",
    "#print(date_last_year)"
   ]
  },
  {
   "cell_type": "code",
   "execution_count": null,
   "id": "1bf8d035",
   "metadata": {},
   "outputs": [],
   "source": [
    "np.arange(np.datetime64(\"2017-07-15\"), np.datetime64(\"2017-08-23\"), np.timedelta64(5, 'D'))"
   ]
  },
  {
   "cell_type": "code",
   "execution_count": null,
   "id": "ea21d960",
   "metadata": {},
   "outputs": [],
   "source": [
    "import matplotlib.dates as mdates\n",
    "# Design a query to retrieve the last 12 months of precipitation data and plot the results. \n",
    "# Starting from the most recent data point in the database. \n",
    "\n",
    "# Calculate the date one year from the last date in data set.\n",
    "#date_last_year = dt.date(2017, 8, 23) - dt.timedelta(days=365)\n",
    "#print('date one year ago: ',date_last_year)\n",
    "\n",
    "# Perform a query to retrieve the data and precipitation scores\n",
    "precips = session.query(Measurement.date, func.sum(Measurement.prcp)).filter((Measurement.date >= date_last_year) & \\\n",
    "                                                         (Measurement.prcp != \"None\") & \\\n",
    "                                                         (Measurement.prcp != \"0.0\")).\\\n",
    "group_by(Measurement.date).order_by(Measurement.date).all()\n",
    "\n",
    "# Save the query results as a Pandas DataFrame and set the index to the date column\n",
    "df = pd.DataFrame(precips, columns=['date', 'prcp'])\n",
    "# Convert date column from string to datetime\n",
    "df['date'] = pd.to_datetime(df['date'])\n",
    "\n",
    "df.set_index('date', inplace=True)\n",
    "\n",
    "\n",
    "\n",
    "# Sort the dataframe by date\n",
    "df.sort_values('date', inplace=True)\n",
    "\n",
    "#df.head(39)\n",
    "\n",
    "# Use Pandas Plotting with Matplotlib to plot the data\n",
    "\n",
    "#fig = plt.subplot(figsize(12,6))\n",
    "\n",
    "#plt.xticks(np.arange(np.datetime64(\"2017-07-15\"), np.datetime64(\"2017-08-23\"), np.timedelta64(5, 'D')))\n",
    "\n",
    "\n",
    "\n",
    "ax = df.plot(kind='bar', figsize=(20,15))\n",
    "ax.xaxis.set_major_locator(mdates.MonthLocator(interval=1))\n",
    "#ax.xaxis.set_major_formatter(mdates.DateFormatter('%Y-%m-%d'))\n",
    "\n",
    "plt.gcf().autofmt_xdate()\n",
    "\n",
    "plt.show()"
   ]
  }
 ],
 "metadata": {
  "kernelspec": {
   "display_name": "Python 3",
   "language": "python",
   "name": "python3"
  },
  "language_info": {
   "codemirror_mode": {
    "name": "ipython",
    "version": 3
   },
   "file_extension": ".py",
   "mimetype": "text/x-python",
   "name": "python",
   "nbconvert_exporter": "python",
   "pygments_lexer": "ipython3",
   "version": "3.8.8"
  }
 },
 "nbformat": 4,
 "nbformat_minor": 5
}
